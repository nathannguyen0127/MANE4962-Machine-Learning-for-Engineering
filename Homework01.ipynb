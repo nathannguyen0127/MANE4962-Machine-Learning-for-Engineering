{
  "nbformat": 4,
  "nbformat_minor": 0,
  "metadata": {
    "colab": {
      "provenance": [],
      "authorship_tag": "ABX9TyPdurqle6duXqNE5ZKAvNsf",
      "include_colab_link": true
    },
    "kernelspec": {
      "name": "python3",
      "display_name": "Python 3"
    },
    "language_info": {
      "name": "python"
    }
  },
  "cells": [
    {
      "cell_type": "markdown",
      "metadata": {
        "id": "view-in-github",
        "colab_type": "text"
      },
      "source": [
        "<a href=\"https://colab.research.google.com/github/nathannguyen0127/MANE4962-Machine-Learning-for-Engineering/blob/main/Homework01.ipynb\" target=\"_parent\"><img src=\"https://colab.research.google.com/assets/colab-badge.svg\" alt=\"Open In Colab\"/></a>"
      ]
    },
    {
      "cell_type": "markdown",
      "source": [
        "**MANE 4962: Machine Learning for Engineering\n",
        "Homework 1**\n",
        "\n",
        "Nathan Nguyen : RIN 662029534"
      ],
      "metadata": {
        "id": "gvqhU4QkVV_B"
      }
    },
    {
      "cell_type": "markdown",
      "source": [
        "**Problem 1.**\n",
        "\n",
        "(a) $x_{1}$ has 5 features and $x_{2}$ has 4 features.\n",
        "\n",
        "(b) For $x_{1}$ and $x_{2}$ respectively,\n",
        "the $L_{1}$ norm is 26 and 98,\n",
        "the $L_{2}$ is 13.19 and 89.16,\n",
        "and the $L_{∞}$ is 9 and 89."
      ],
      "metadata": {
        "id": "DievEXpkX1Q_"
      }
    },
    {
      "cell_type": "code",
      "source": [
        "x1 = [2, 3, 4, 8, 9]\n",
        "x2 = [2, -3, -4, 89]\n",
        "\n",
        "def L1(x):\n",
        "  sum = 0\n",
        "  for i in range(len(x)):\n",
        "    sum += abs(x[i])\n",
        "  print(\"L1:\", sum)\n",
        "  return None\n",
        "\n",
        "def L2(x):\n",
        "  sum = 0\n",
        "  for i in range(len(x)):\n",
        "    sum += x[i]**2\n",
        "  print(\"L2:\", sum**0.5)\n",
        "  return None\n",
        "\n",
        "def Linf(x):\n",
        "  max = 0\n",
        "  for i in range(len(x)):\n",
        "    if abs(x[i]) > max:\n",
        "      max = abs(x[i])\n",
        "  print(\"Linf:\", max)\n",
        "  return None\n",
        "\n",
        "print(\"For x1:\")\n",
        "x1L1 = L1(x1)\n",
        "x1L2 = L2(x1)\n",
        "x1Linf = Linf(x1)\n",
        "\n",
        "print(\"\\nFor x2:\")\n",
        "x2L1 = L1(x2)\n",
        "x2L2 = L2(x2)\n",
        "x2Linf = Linf(x2)\n"
      ],
      "metadata": {
        "colab": {
          "base_uri": "https://localhost:8080/"
        },
        "id": "CTuHySipVVGl",
        "outputId": "023e5957-f83f-482a-ff67-b6903645d4b8"
      },
      "execution_count": null,
      "outputs": [
        {
          "output_type": "stream",
          "name": "stdout",
          "text": [
            "For x1:\n",
            "L1: 26\n",
            "L2: 13.19090595827292\n",
            "Linf: 9\n",
            "\n",
            "For x2:\n",
            "L1: 98\n",
            "L2: 89.16277250063504\n",
            "Linf: 89\n"
          ]
        }
      ]
    },
    {
      "cell_type": "markdown",
      "source": [
        "**Problem 2.**\n",
        "\n",
        "(a) Length of $x$: 3,145,728\n",
        "\n",
        "(b) Length of $y$: 12,288\n",
        "\n",
        "(c) $W$ must have the same number of columns as the number of elements in $x$ and the same number of rows as the number of elements in $y$. Thus, the matrix $W$ is by 3,145,728 x 12,288, making it 38,654,705,664 elements in total. The vector $b$ must be the same length as the output vector $y$ and thus has 12,288 elements.\n"
      ],
      "metadata": {
        "id": "vKK0Q2vFbgN2"
      }
    },
    {
      "cell_type": "code",
      "source": [
        "x = 1024**2*3\n",
        "y = 64**2*3\n",
        "\n",
        "print(\"x:\", x)\n",
        "print(\"y:\", y)\n",
        "\n",
        "W = x*y\n",
        "print(\"W:\", W)"
      ],
      "metadata": {
        "colab": {
          "base_uri": "https://localhost:8080/"
        },
        "id": "9izhXqEydZ--",
        "outputId": "f348703d-fd08-4e35-cd2b-6771acc6d03e"
      },
      "execution_count": null,
      "outputs": [
        {
          "output_type": "stream",
          "name": "stdout",
          "text": [
            "x: 3145728\n",
            "y: 12288\n",
            "W: 38654705664\n"
          ]
        }
      ]
    },
    {
      "cell_type": "markdown",
      "source": [
        "**Problem 3.**\n",
        "\n",
        "1-norm: 3.0\n",
        "\n",
        "2-norm: 2.288\n",
        "\n",
        "∞-norm: 2.0\n",
        "\n",
        "Frobenius-norm: 2.449"
      ],
      "metadata": {
        "id": "Dzsq--6vicbK"
      }
    },
    {
      "cell_type": "code",
      "source": [
        "import numpy as np\n",
        "import math\n",
        "\n",
        "x = np.array([[1, -1], [2, 0]])\n",
        "\n",
        "sum = np.zeros((1,2))\n",
        "for i in range(len(x)):\n",
        "  for j in range(len(x[i])):\n",
        "    sum[0][j] += x[i][j]\n",
        "\n",
        "print(\"1-norm:\", np.max(sum))\n",
        "\n",
        "y = np.transpose(x)\n",
        "eig = np.linalg.eig(np.matmul(x,y))\n",
        "print(\"2-norm:\", math.sqrt(max(eig.eigenvalues)))\n",
        "\n",
        "sum = np.zeros((1,2))\n",
        "for i in range(len(x)):\n",
        "  for j in range(len(x[i])):\n",
        "    sum[0][j] += x[j][i]\n",
        "\n",
        "print(\"inf-norm:\", np.max(sum))\n",
        "\n",
        "sum = 0\n",
        "for i in range(len(x)):\n",
        "  for j in range(len(x[i])):\n",
        "    sum += x[i][j]**2\n",
        "\n",
        "print(\"Frobenius-norm:\", math.sqrt(sum))\n",
        "\n"
      ],
      "metadata": {
        "colab": {
          "base_uri": "https://localhost:8080/"
        },
        "id": "7I7OQBQrhU2P",
        "outputId": "92d239e7-8939-47c2-944a-fac0a4d06fc3"
      },
      "execution_count": null,
      "outputs": [
        {
          "output_type": "stream",
          "name": "stdout",
          "text": [
            "1-norm: 3.0\n",
            "2-norm: 2.288245611270737\n",
            "inf-norm: 2.0\n",
            "Frobenius-norm: 2.449489742783178\n"
          ]
        }
      ]
    },
    {
      "cell_type": "code",
      "source": [],
      "metadata": {
        "id": "WxctnMRYi9-K"
      },
      "execution_count": null,
      "outputs": []
    }
  ]
}